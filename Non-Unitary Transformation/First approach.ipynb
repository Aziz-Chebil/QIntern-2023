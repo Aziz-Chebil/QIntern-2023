{
 "cells": [
  {
   "cell_type": "code",
   "execution_count": 1,
   "id": "aa204bcf-21ae-4eff-b9f2-85ce88f6da3a",
   "metadata": {},
   "outputs": [],
   "source": [
    "# Importing standard Qiskit libraries\n",
    "from qiskit import QuantumCircuit, transpile\n",
    "from qiskit.tools.jupyter import *\n",
    "from qiskit.visualization import *\n",
    "from ibm_quantum_widgets import *\n",
    "\n",
    "# qiskit-ibmq-provider has been deprecated.\n",
    "# Please see the Migration Guides in https://ibm.biz/provider_migration_guide for more detail.\n",
    "from qiskit_ibm_runtime import QiskitRuntimeService, Sampler, Estimator, Session, Options\n",
    "\n",
    "# Loading your IBM Quantum account(s)\n",
    "service = QiskitRuntimeService(channel=\"ibm_quantum\")\n",
    "\n",
    "# Invoke a primitive. For more details see https://qiskit.org/documentation/partners/qiskit_ibm_runtime/tutorials.html\n",
    "# result = Sampler(\"ibmq_qasm_simulator\").run(circuits).result()"
   ]
  },
  {
   "cell_type": "code",
   "execution_count": 2,
   "id": "15b4cb1d-ab75-48a1-91b4-9631d3833457",
   "metadata": {
    "tags": []
   },
   "outputs": [],
   "source": [
    "import math as math\n",
    "from qiskit.quantum_info.operators import Operator\n",
    "from qiskit.extensions import UnitaryGate\n",
    "from qiskit import Aer, execute"
   ]
  },
  {
   "cell_type": "code",
   "execution_count": 3,
   "id": "8dc29a91-3292-470d-beaf-d501829f08f9",
   "metadata": {
    "tags": []
   },
   "outputs": [],
   "source": [
    "qc = QuantumCircuit(1,1)"
   ]
  },
  {
   "cell_type": "code",
   "execution_count": 40,
   "id": "355d5535-a3bd-47fa-9094-e2e25a3d121c",
   "metadata": {
    "tags": []
   },
   "outputs": [],
   "source": [
    "# Taking an example of a new unitary gate we got out of a matrix\n",
    "gate_matrix = [[1/math.sqrt(2), 1/math.sqrt(2)],\n",
    "               [-1/math.sqrt(2), 1/math.sqrt(2)]]\n",
    "custom_gate = Operator(gate_matrix)"
   ]
  },
  {
   "cell_type": "code",
   "execution_count": 41,
   "id": "cbf0dddb-76fb-4b5c-98c9-b0ba33f0f62c",
   "metadata": {
    "tags": []
   },
   "outputs": [
    {
     "data": {
      "text/plain": [
       "<qiskit.circuit.instructionset.InstructionSet at 0x7f18302ae890>"
      ]
     },
     "execution_count": 41,
     "metadata": {},
     "output_type": "execute_result"
    }
   ],
   "source": [
    "qc.unitary(custom_gate,0)"
   ]
  },
  {
   "cell_type": "code",
   "execution_count": 42,
   "id": "0acff688-e4d3-4538-bfaa-774fde026210",
   "metadata": {
    "tags": []
   },
   "outputs": [
    {
     "data": {
      "image/png": "[encoded data removed]",
      "text/plain": [
       "<Figure size 770.731x200.667 with 1 Axes>"
      ]
     },
     "execution_count": 42,
     "metadata": {},
     "output_type": "execute_result"
    }
   ],
   "source": [
    "qc.measure(0,0)\n",
    "qc.draw()"
   ]
  },
  {
   "cell_type": "code",
   "execution_count": 43,
   "id": "114c341d-f077-4a8b-b2ae-a44786566e68",
   "metadata": {},
   "outputs": [
    {
     "data": {
      "text/plain": [
       "<qiskit.circuit.instructionset.InstructionSet at 0x7f17eb7d8f40>"
      ]
     },
     "execution_count": 43,
     "metadata": {},
     "output_type": "execute_result"
    }
   ],
   "source": [
    "qc.unitary(custom_gate,0)"
   ]
  },
  {
   "cell_type": "code",
   "execution_count": 44,
   "id": "ab1d96b8-7af4-4f05-9822-383d2a8275e9",
   "metadata": {
    "tags": []
   },
   "outputs": [
    {
     "data": {
      "image/png": "[encoded data removed]",
      "text/plain": [
       "<Figure size 700x500 with 1 Axes>"
      ]
     },
     "execution_count": 44,
     "metadata": {},
     "output_type": "execute_result"
    }
   ],
   "source": [
    "simulator = Aer.get_backend('aer_simulator')\n",
    "result = execute(qc, simulator).result()\n",
    "counts = result.get_counts(qc)\n",
    "plot_histogram(counts)\n"
   ]
  },
  {
   "cell_type": "markdown",
   "id": "cfdffebf-a4aa-4616-9d57-24ca4a4b4842",
   "metadata": {},
   "source": [
    "# General work for any matrix of the form ( a b b a)"
   ]
  },
  {
   "cell_type": "code",
   "execution_count": 45,
   "id": "03dbaf3a-12e9-4ac0-9a4a-a78c589fd0fa",
   "metadata": {
    "tags": []
   },
   "outputs": [],
   "source": [
    "import numpy as np"
   ]
  },
  {
   "cell_type": "code",
   "execution_count": 46,
   "id": "4b92fdfb-ace9-4990-9b42-2a6abbeefa28",
   "metadata": {
    "tags": []
   },
   "outputs": [],
   "source": [
    "a = np.random.random()\n",
    "b= 1-a\n",
    "random_matrix=np.array([[a,b],[b,a]])"
   ]
  },
  {
   "cell_type": "code",
   "execution_count": 47,
   "id": "33b96775-d81e-4023-a193-afbb13bfadd3",
   "metadata": {
    "tags": []
   },
   "outputs": [
    {
     "data": {
      "text/plain": [
       "array([[0.65183288, 0.34816712],\n",
       "       [0.34816712, 0.65183288]])"
      ]
     },
     "execution_count": 47,
     "metadata": {},
     "output_type": "execute_result"
    }
   ],
   "source": [
    "random_matrix"
   ]
  },
  {
   "cell_type": "code",
   "execution_count": 48,
   "id": "671cb2ee-582c-4f82-b901-0330e58503e0",
   "metadata": {
    "tags": []
   },
   "outputs": [],
   "source": [
    "from numpy.linalg import eig\n"
   ]
  },
  {
   "cell_type": "code",
   "execution_count": 49,
   "id": "056065ec-24d2-4216-ad50-1e81613d9ebf",
   "metadata": {
    "tags": []
   },
   "outputs": [],
   "source": [
    "w,v=eig(random_matrix)"
   ]
  },
  {
   "cell_type": "code",
   "execution_count": 50,
   "id": "6ffacfe4-8cda-4462-9f49-834a70297dee",
   "metadata": {
    "tags": []
   },
   "outputs": [],
   "source": [
    "v1= v[0]\n",
    "v2=v[1]"
   ]
  },
  {
   "cell_type": "code",
   "execution_count": 51,
   "id": "21def3f8-b344-416f-a29c-b0c195b97812",
   "metadata": {
    "tags": []
   },
   "outputs": [
    {
     "data": {
      "text/plain": [
       "(array([ 0.70710678, -0.70710678]), array([0.70710678, 0.70710678]))"
      ]
     },
     "execution_count": 51,
     "metadata": {},
     "output_type": "execute_result"
    }
   ],
   "source": [
    "v1,v2"
   ]
  },
  {
   "cell_type": "code",
   "execution_count": 52,
   "id": "d54df93c-662c-4a4b-afc3-4592bb82de89",
   "metadata": {
    "tags": []
   },
   "outputs": [],
   "source": [
    "v1=np.array(v1)"
   ]
  },
  {
   "cell_type": "code",
   "execution_count": 53,
   "id": "5fb108c8-d240-4a84-b6f6-a19b4c9f2ece",
   "metadata": {
    "tags": []
   },
   "outputs": [
    {
     "data": {
      "text/plain": [
       "array([[ 0.70710678,  0.70710678],\n",
       "       [-0.70710678,  0.70710678]])"
      ]
     },
     "execution_count": 53,
     "metadata": {},
     "output_type": "execute_result"
    }
   ],
   "source": [
    "matrix = np.column_stack((v1, v2))\n",
    "matrix"
   ]
  },
  {
   "cell_type": "code",
   "execution_count": 54,
   "id": "4d66b52a-b64d-40d4-997e-408308808845",
   "metadata": {
    "tags": []
   },
   "outputs": [
    {
     "data": {
      "text/plain": [
       "True"
      ]
     },
     "execution_count": 54,
     "metadata": {},
     "output_type": "execute_result"
    }
   ],
   "source": [
    "Operator(matrix).is_unitary()"
   ]
  },
  {
   "cell_type": "code",
   "execution_count": 55,
   "id": "69f91d11-e742-4bad-8ca0-22cf3434189a",
   "metadata": {
    "tags": []
   },
   "outputs": [
    {
     "data": {
      "text/plain": [
       "array([[ 0.70710678,  0.70710678],\n",
       "       [-0.70710678,  0.70710678]])"
      ]
     },
     "execution_count": 55,
     "metadata": {},
     "output_type": "execute_result"
    }
   ],
   "source": [
    "matrix"
   ]
  },
  {
   "cell_type": "code",
   "execution_count": 56,
   "id": "f75e7e85-c637-4bea-a77e-46a1531e536c",
   "metadata": {
    "tags": []
   },
   "outputs": [
    {
     "data": {
      "text/plain": [
       "<qiskit.circuit.instructionset.InstructionSet at 0x7f17e862ba90>"
      ]
     },
     "execution_count": 56,
     "metadata": {},
     "output_type": "execute_result"
    }
   ],
   "source": [
    "chebil_gate=Operator(matrix)\n",
    "qc=QuantumCircuit(1,1)\n",
    "qc.unitary(chebil_gate,0)"
   ]
  },
  {
   "cell_type": "code",
   "execution_count": 24,
   "id": "45bb0507-1728-46d1-af33-896f7ade70c8",
   "metadata": {
    "tags": []
   },
   "outputs": [
    {
     "data": {
      "text/plain": [
       "<qiskit.circuit.instructionset.InstructionSet at 0x7f183026ff70>"
      ]
     },
     "execution_count": 24,
     "metadata": {},
     "output_type": "execute_result"
    }
   ],
   "source": [
    "\n",
    "qc.measure(0,0)\n",
    "qc.draw()"
   ]
  },
  {
   "cell_type": "code",
   "execution_count": 57,
   "id": "7b4c44a9-20bf-4c95-84d7-6e44e3867612",
   "metadata": {
    "tags": []
   },
   "outputs": [
    {
     "data": {
      "image/png": "[encoded data removed]",
      "text/plain": [
       "<Figure size 352.675x200.667 with 1 Axes>"
      ]
     },
     "execution_count": 57,
     "metadata": {},
     "output_type": "execute_result"
    }
   ],
   "source": []
  },
  {
   "cell_type": "code",
   "execution_count": 58,
   "id": "c0a093a3-15a4-4508-92bb-27480f0c5452",
   "metadata": {
    "tags": []
   },
   "outputs": [
    {
     "data": {
      "image/png": "[encoded data removed]",
      "text/plain": [
       "<Figure size 700x500 with 1 Axes>"
      ]
     },
     "execution_count": 58,
     "metadata": {},
     "output_type": "execute_result"
    }
   ],
   "source": [
    "simulator = Aer.get_backend('aer_simulator')\n",
    "result = execute(qc, simulator).result()\n",
    "counts = result.get_counts(qc)\n",
    "plot_histogram(counts)\n"
   ]
  },
  {
   "cell_type": "markdown",
   "id": "fd7180d9-910b-468f-aa31-41564c312ca9",
   "metadata": {
    "tags": []
   },
   "source": [
    "# Proving the gates are unitary by applying the new gate then its conjugate transpose"
   ]
  },
  {
   "cell_type": "code",
   "execution_count": 59,
   "id": "e08aa504-a021-49fb-a10a-b280d8530646",
   "metadata": {
    "tags": []
   },
   "outputs": [
    {
     "data": {
      "text/plain": [
       "<qiskit.circuit.instructionset.InstructionSet at 0x7f17eb7d8f10>"
      ]
     },
     "execution_count": 59,
     "metadata": {},
     "output_type": "execute_result"
    }
   ],
   "source": [
    "chebil_gate=Operator(matrix)\n",
    "qc=QuantumCircuit(1,1)\n",
    "qc.unitary(chebil_gate,0)"
   ]
  },
  {
   "cell_type": "code",
   "execution_count": 60,
   "id": "f5fbf334-2d5d-4ea0-84bb-4e827f3c2113",
   "metadata": {
    "tags": []
   },
   "outputs": [
    {
     "data": {
      "text/plain": [
       "<qiskit.circuit.instructionset.InstructionSet at 0x7f17e870d480>"
      ]
     },
     "execution_count": 60,
     "metadata": {},
     "output_type": "execute_result"
    }
   ],
   "source": [
    "matrix2= np.matrix(matrix).getH()\n",
    "qc.unitary(Operator(matrix2),0)"
   ]
  },
  {
   "cell_type": "code",
   "execution_count": 61,
   "id": "65c1c3a7-0ea4-4a69-99b8-7038b93465a6",
   "metadata": {
    "tags": []
   },
   "outputs": [
    {
     "data": {
      "image/png": "[encoded data removed]",
      "text/plain": [
       "<Figure size 519.897x200.667 with 1 Axes>"
      ]
     },
     "execution_count": 61,
     "metadata": {},
     "output_type": "execute_result"
    }
   ],
   "source": [
    "\n",
    "qc.measure(0,0)\n",
    "qc.draw()"
   ]
  },
  {
   "cell_type": "code",
   "execution_count": 62,
   "id": "40610046-3b0e-436d-b9d6-1e501f4297c4",
   "metadata": {
    "tags": []
   },
   "outputs": [
    {
     "data": {
      "image/png": "[encoded data removed]",
      "text/plain": [
       "<Figure size 700x500 with 1 Axes>"
      ]
     },
     "execution_count": 62,
     "metadata": {},
     "output_type": "execute_result"
    }
   ],
   "source": [
    "simulator = Aer.get_backend('aer_simulator')\n",
    "result = execute(qc, simulator).result()\n",
    "counts = result.get_counts(qc)\n",
    "plot_histogram(counts)"
   ]
  },
  {
   "cell_type": "code",
   "execution_count": null,
   "id": "e1dec86a-77a1-4590-8630-2a46d66020cf",
   "metadata": {},
   "outputs": [],
   "source": []
  },
  {
   "cell_type": "code",
   "execution_count": null,
   "id": "afc83434-7518-4825-b655-2cba21e2cd5c",
   "metadata": {},
   "outputs": [],
   "source": []
  }
 ],
 "metadata": {
  "kernelspec": {
   "display_name": "Python 3 (ipykernel)",
   "language": "python",
   "name": "python3"
  },
  "language_info": {
   "codemirror_mode": {
    "name": "ipython",
    "version": 3
   },
   "file_extension": ".py",
   "mimetype": "text/x-python",
   "name": "python",
   "nbconvert_exporter": "python",
   "pygments_lexer": "ipython3",
   "version": "3.10.8"
  },
  "widgets": {
   "application/vnd.jupyter.widget-state+json": {
    "state": {
     "01a1f8de88a34bb498ed4f6f670a7c0b": {
      "model_module": "@jupyter-widgets/controls",
      "model_module_version": "2.0.0",
      "model_name": "HTMLStyleModel",
      "state": {
       "description_width": "",
       "font_size": null,
       "text_color": null
      }
     },
     "0528a7cdf6824bf5a09c948eac4cb0a6": {
      "model_module": "@jupyter-widgets/base",
      "model_module_version": "2.0.0",
      "model_name": "LayoutModel",
      "state": {
       "width": "190px"
      }
     },
     "086901fd42324bf8afdbf4f88cfee20e": {
      "model_module": "@jupyter-widgets/controls",
      "model_module_version": "2.0.0",
      "model_name": "ButtonStyleModel",
      "state": {
       "font_family": null,
       "font_size": null,
       "font_style": null,
       "font_variant": null,
       "font_weight": null,
       "text_color": null,
       "text_decoration": null
      }
     },
     "14af0dafa3a0424b9b8bb608d6c05eb2": {
      "model_module": "@jupyter-widgets/controls",
      "model_module_version": "2.0.0",
      "model_name": "HTMLStyleModel",
      "state": {
       "description_width": "",
       "font_size": null,
       "text_color": null
      }
     },
     "1e4243c9eefc4fbea171e5657865ef04": {
      "model_module": "@jupyter-widgets/controls",
      "model_module_version": "2.0.0",
      "model_name": "HTMLModel",
      "state": {
       "layout": "IPY_MODEL_a9803802fb1b4f03ac1b3bb621d7cbdc",
       "style": "IPY_MODEL_01a1f8de88a34bb498ed4f6f670a7c0b",
       "value": "<h5>Status</h5>"
      }
     },
     "25701ff23be34d4285319ba3c08cb70e": {
      "model_module": "@jupyter-widgets/controls",
      "model_module_version": "2.0.0",
      "model_name": "HTMLModel",
      "state": {
       "layout": "IPY_MODEL_0528a7cdf6824bf5a09c948eac4cb0a6",
       "style": "IPY_MODEL_3263164bb9a6465d9021e1304f14c46c",
       "value": "<h5>Job ID</h5>"
      }
     },
     "26b8eb7f33734faa82cff7f4bafebc43": {
      "model_module": "@jupyter-widgets/base",
      "model_module_version": "2.0.0",
      "model_name": "LayoutModel",
      "state": {
       "width": "70px"
      }
     },
     "294362157cc94e4885d4d4e969c0f4c5": {
      "model_module": "@jupyter-widgets/base",
      "model_module_version": "2.0.0",
      "model_name": "LayoutModel",
      "state": {
       "grid_area": "right",
       "padding": "0px 0px 0px 0px",
       "width": "70px"
      }
     },
     "3263164bb9a6465d9021e1304f14c46c": {
      "model_module": "@jupyter-widgets/controls",
      "model_module_version": "2.0.0",
      "model_name": "HTMLStyleModel",
      "state": {
       "description_width": "",
       "font_size": null,
       "text_color": null
      }
     },
     "337006f4feda46218b9d5fde4948889e": {
      "model_module": "@jupyter-widgets/base",
      "model_module_version": "2.0.0",
      "model_name": "LayoutModel",
      "state": {}
     },
     "365e16b238334e8eb3fd654c4b98d301": {
      "model_module": "@jupyter-widgets/base",
      "model_module_version": "2.0.0",
      "model_name": "LayoutModel",
      "state": {
       "margin": "0px 0px 0px 37px",
       "width": "600px"
      }
     },
     "3b829c311d41496c999b1da914d3b65d": {
      "model_module": "@jupyter-widgets/controls",
      "model_module_version": "2.0.0",
      "model_name": "ButtonModel",
      "state": {
       "button_style": "primary",
       "description": "Clear",
       "layout": "IPY_MODEL_294362157cc94e4885d4d4e969c0f4c5",
       "style": "IPY_MODEL_086901fd42324bf8afdbf4f88cfee20e",
       "tooltip": null
      }
     },
     "3e216b1c2d394579b40c2fab1a7b82c5": {
      "model_module": "@jupyter-widgets/controls",
      "model_module_version": "2.0.0",
      "model_name": "HTMLModel",
      "state": {
       "layout": "IPY_MODEL_e579bca4569a4e9a8396730042371bb1",
       "style": "IPY_MODEL_bac2871f89cf46c4bc49e169e51a66af",
       "value": "<h5>Backend</h5>"
      }
     },
     "69b1d0cc777448309ce1b5c77945e2f8": {
      "model_module": "@jupyter-widgets/controls",
      "model_module_version": "2.0.0",
      "model_name": "HTMLModel",
      "state": {
       "layout": "IPY_MODEL_337006f4feda46218b9d5fde4948889e",
       "style": "IPY_MODEL_a0d1a4e9477947e5b744a8a426dd598c",
       "value": "<h5>Message</h5>"
      }
     },
     "6d8f0ae3042541d69a7675f6eb4c5480": {
      "model_module": "@jupyter-widgets/base",
      "model_module_version": "2.0.0",
      "model_name": "LayoutModel",
      "state": {
       "grid_template_areas": "\n                                       \". . . . right \"\n                                        ",
       "grid_template_columns": "20% 20% 20% 20% 20%",
       "width": "100%"
      }
     },
     "7eb2b14f70f44e818b445b9e2e6eccc6": {
      "model_module": "@jupyter-widgets/controls",
      "model_module_version": "2.0.0",
      "model_name": "GridBoxModel",
      "state": {
       "children": [
        "IPY_MODEL_3b829c311d41496c999b1da914d3b65d"
       ],
       "layout": "IPY_MODEL_6d8f0ae3042541d69a7675f6eb4c5480"
      }
     },
     "7f6ca6b072cb4736b7cdfaad0ed773e3": {
      "model_module": "@jupyter-widgets/controls",
      "model_module_version": "2.0.0",
      "model_name": "HBoxModel",
      "state": {
       "children": [
        "IPY_MODEL_25701ff23be34d4285319ba3c08cb70e",
        "IPY_MODEL_3e216b1c2d394579b40c2fab1a7b82c5",
        "IPY_MODEL_1e4243c9eefc4fbea171e5657865ef04",
        "IPY_MODEL_cd0c69a643ac49a7b10e73d37d5a5096",
        "IPY_MODEL_69b1d0cc777448309ce1b5c77945e2f8"
       ],
       "layout": "IPY_MODEL_365e16b238334e8eb3fd654c4b98d301"
      }
     },
     "964f453558464eeb968a09e88180d8fe": {
      "model_module": "@jupyter-widgets/controls",
      "model_module_version": "2.0.0",
      "model_name": "HTMLModel",
      "state": {
       "layout": "IPY_MODEL_9e1f57c940fa49beb981bd363f5773f7",
       "style": "IPY_MODEL_14af0dafa3a0424b9b8bb608d6c05eb2",
       "value": "<p style='font-family: IBM Plex Sans, Arial, Helvetica, sans-serif; font-size: 20px; font-weight: medium;'>Circuit Properties</p>"
      }
     },
     "9e1f57c940fa49beb981bd363f5773f7": {
      "model_module": "@jupyter-widgets/base",
      "model_module_version": "2.0.0",
      "model_name": "LayoutModel",
      "state": {
       "margin": "0px 0px 10px 0px"
      }
     },
     "a0d1a4e9477947e5b744a8a426dd598c": {
      "model_module": "@jupyter-widgets/controls",
      "model_module_version": "2.0.0",
      "model_name": "HTMLStyleModel",
      "state": {
       "description_width": "",
       "font_size": null,
       "text_color": null
      }
     },
     "a9803802fb1b4f03ac1b3bb621d7cbdc": {
      "model_module": "@jupyter-widgets/base",
      "model_module_version": "2.0.0",
      "model_name": "LayoutModel",
      "state": {
       "width": "95px"
      }
     },
     "b033f244290e4ae6aa20701ac0955742": {
      "model_module": "@jupyter-widgets/controls",
      "model_module_version": "2.0.0",
      "model_name": "HTMLStyleModel",
      "state": {
       "description_width": "",
       "font_size": null,
       "text_color": null
      }
     },
     "bac2871f89cf46c4bc49e169e51a66af": {
      "model_module": "@jupyter-widgets/controls",
      "model_module_version": "2.0.0",
      "model_name": "HTMLStyleModel",
      "state": {
       "description_width": "",
       "font_size": null,
       "text_color": null
      }
     },
     "cd0c69a643ac49a7b10e73d37d5a5096": {
      "model_module": "@jupyter-widgets/controls",
      "model_module_version": "2.0.0",
      "model_name": "HTMLModel",
      "state": {
       "layout": "IPY_MODEL_26b8eb7f33734faa82cff7f4bafebc43",
       "style": "IPY_MODEL_b033f244290e4ae6aa20701ac0955742",
       "value": "<h5>Queue</h5>"
      }
     },
     "e579bca4569a4e9a8396730042371bb1": {
      "model_module": "@jupyter-widgets/base",
      "model_module_version": "2.0.0",
      "model_name": "LayoutModel",
      "state": {
       "width": "145px"
      }
     }
    },
    "version_major": 2,
    "version_minor": 0
   }
  }
 },
 "nbformat": 4,
 "nbformat_minor": 5
}
