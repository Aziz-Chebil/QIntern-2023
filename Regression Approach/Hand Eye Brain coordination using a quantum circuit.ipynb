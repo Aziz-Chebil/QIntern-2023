{
 "cells": [
  {
   "cell_type": "code",
   "execution_count": 1,
   "id": "38916dad-8880-4351-b304-06504bc2ffcc",
   "metadata": {
    "tags": []
   },
   "outputs": [],
   "source": [
    "# Quantum circuit : We use the above values to simulate the eye-brain-hand coordination on the quantum computer\n"
   ]
  },
  {
   "cell_type": "code",
   "execution_count": 2,
   "id": "abf98153-414c-42b4-b4f2-826b509ddaa4",
   "metadata": {
    "tags": []
   },
   "outputs": [],
   "source": [
    "from qiskit import QuantumCircuit, QuantumRegister, ClassicalRegister, execute, Aer\n",
    "import numpy as np"
   ]
  },
  {
   "cell_type": "code",
   "execution_count": 3,
   "id": "c5b59c17-6b28-4315-a315-e9e51c3e442a",
   "metadata": {
    "tags": []
   },
   "outputs": [],
   "source": [
    "# Create the quantum circuit with three qubits: Eye, Brain, and Hand\n",
    "eye_qubit = QuantumRegister(1, name='eye')\n",
    "brain_qubit = QuantumRegister(1, name='brain')\n",
    "hand_qubit = QuantumRegister(1, name='hand')\n",
    "classical_register = ClassicalRegister(1)"
   ]
  },
  {
   "cell_type": "code",
   "execution_count": 4,
   "id": "a5515ee1-cf8c-45af-a184-59dab000d1b1",
   "metadata": {
    "tags": []
   },
   "outputs": [],
   "source": [
    "# Define the range for C/N values (x) and PHA values (y)\n",
    "x_values = np.linspace(0, 20*np.pi, 20)\n",
    "y_values = (np.sin(x_values/2))**2\n"
   ]
  },
  {
   "cell_type": "code",
   "execution_count": 6,
   "id": "4d4d4b6c-cc16-4deb-b82f-f0d72bad2a91",
   "metadata": {
    "tags": []
   },
   "outputs": [],
   "source": [
    "# Iterate over each combination of x and y values\n",
    "for x, y in zip(x_values, y_values):\n",
    "# Create a new quantum circuit for each run\n",
    "    qc = QuantumCircuit(eye_qubit, brain_qubit, hand_qubit, classical_register)\n"
   ]
  },
  {
   "cell_type": "code",
   "execution_count": 7,
   "id": "c43c5ba7-66cd-4b77-8afe-461647c7fdde",
   "metadata": {
    "tags": []
   },
   "outputs": [
    {
     "data": {
      "text/plain": [
       "<qiskit.circuit.instructionset.InstructionSet at 0x7fa32e526830>"
      ]
     },
     "execution_count": 7,
     "metadata": {},
     "output_type": "execute_result"
    }
   ],
   "source": [
    "# Apply the unitary operation on Eye qubit using x values\n",
    "qc.u(x, x/2, 0.75*x, eye_qubit) # Complex u3 gate parameters"
   ]
  },
  {
   "cell_type": "code",
   "execution_count": 8,
   "id": "6f5ba2f8-285b-468f-ac9a-e5b3af08bf66",
   "metadata": {
    "tags": []
   },
   "outputs": [
    {
     "data": {
      "text/plain": [
       "<qiskit.circuit.instructionset.InstructionSet at 0x7fa32e5240d0>"
      ]
     },
     "execution_count": 8,
     "metadata": {},
     "output_type": "execute_result"
    }
   ],
   "source": [
    "# Apply the Hadamard gate to entangle the Eye and Brain qubits\n",
    "qc.h(eye_qubit)\n",
    "qc.cx(eye_qubit, brain_qubit)"
   ]
  },
  {
   "cell_type": "code",
   "execution_count": 9,
   "id": "6fb16bd3-c23c-4deb-871a-d679a47dd150",
   "metadata": {
    "tags": []
   },
   "outputs": [
    {
     "data": {
      "text/plain": [
       "<qiskit.circuit.instructionset.InstructionSet at 0x7fa32e526170>"
      ]
     },
     "execution_count": 9,
     "metadata": {},
     "output_type": "execute_result"
    }
   ],
   "source": [
    "# Apply the unitary operation on Brain qubit using y values\n",
    "qc.u(y, y/2, 0.75*y, brain_qubit) # Complex u3 gate parameters"
   ]
  },
  {
   "cell_type": "code",
   "execution_count": 10,
   "id": "d8f0b5e3-3b60-4ba9-86eb-0c0541bac355",
   "metadata": {
    "tags": []
   },
   "outputs": [
    {
     "data": {
      "text/plain": [
       "<qiskit.circuit.instructionset.InstructionSet at 0x7fa32e5264a0>"
      ]
     },
     "execution_count": 10,
     "metadata": {},
     "output_type": "execute_result"
    }
   ],
   "source": [
    "# Apply controlled operation between Brain and Hand qubits\n",
    "qc.cx(brain_qubit, hand_qubit)"
   ]
  },
  {
   "cell_type": "code",
   "execution_count": 16,
   "id": "91e12e2b-177c-4932-a49f-36d9e5b35e80",
   "metadata": {
    "tags": []
   },
   "outputs": [
    {
     "name": "stdout",
     "output_type": "stream",
     "text": [
      "Circuit for x=62.83 and y=0.00:\n",
      "       ┌────────────────┐┌───┐                            \n",
      "  eye: ┤ U(20π,10π,15π) ├┤ H ├──■─────────────────────────\n",
      "       └────────────────┘└───┘┌─┴─┐┌──────────┐           \n",
      "brain: ───────────────────────┤ X ├┤ U(0,0,0) ├──■────────\n",
      "                              └───┘└──────────┘┌─┴─┐┌─┐┌─┐\n",
      " hand: ────────────────────────────────────────┤ X ├┤M├┤M├\n",
      "                                               └───┘└╥┘└╥┘\n",
      " c0: 1/══════════════════════════════════════════════╩══╩═\n",
      "                                                     0  0 \n",
      "\n"
     ]
    }
   ],
   "source": [
    "# Measure the Hand qubit to obtain the motor response or command\n",
    "qc.measure(hand_qubit, classical_register)\n",
    "print(f\"Circuit for x={x:.2f} and y={y:.2f}:\")\n",
    "print(qc)\n",
    "print()"
   ]
  },
  {
   "cell_type": "code",
   "execution_count": 17,
   "id": "4cee31fe-14fc-4288-a069-bdbe94965760",
   "metadata": {
    "tags": []
   },
   "outputs": [
    {
     "name": "stdout",
     "output_type": "stream",
     "text": [
      "For x=62.83 and y=0.00: {'0': 4096, '1': 4096}\n",
      "\n"
     ]
    }
   ],
   "source": [
    "# Simulate the quantum circuit for the current values of x and y\n",
    "simulator = Aer.get_backend('qasm_simulator')\n",
    "job = execute(qc, simulator, shots=8192)\n",
    "result = job.result()\n",
    "counts = result.get_counts(qc)\n",
    "print(f\"For x={x:.2f} and y={y:.2f}: {counts}\")\n",
    "print()"
   ]
  },
  {
   "cell_type": "code",
   "execution_count": null,
   "id": "4e5b2461-22d9-4cfa-990d-e9ed0efab22c",
   "metadata": {},
   "outputs": [],
   "source": []
  }
 ],
 "metadata": {
  "kernelspec": {
   "display_name": "Python 3 (ipykernel)",
   "language": "python",
   "name": "python3"
  },
  "language_info": {
   "codemirror_mode": {
    "name": "ipython",
    "version": 3
   },
   "file_extension": ".py",
   "mimetype": "text/x-python",
   "name": "python",
   "nbconvert_exporter": "python",
   "pygments_lexer": "ipython3",
   "version": "3.10.8"
  },
  "widgets": {
   "application/vnd.jupyter.widget-state+json": {
    "state": {
     "04f4fd60799e48ccadf11e508c1f0672": {
      "model_module": "@jupyter-widgets/controls",
      "model_module_version": "2.0.0",
      "model_name": "GridBoxModel",
      "state": {
       "children": [
        "IPY_MODEL_b452695ec69148cb83be47313fe1659e"
       ],
       "layout": "IPY_MODEL_35638c23b05542dda67e046b02e9dd2c"
      }
     },
     "0d5c98d8af6344aea1c38a6581b420e7": {
      "model_module": "@jupyter-widgets/controls",
      "model_module_version": "2.0.0",
      "model_name": "HTMLStyleModel",
      "state": {
       "description_width": "",
       "font_size": null,
       "text_color": null
      }
     },
     "2a7170eb17c94e9e929ff4575cc8aaee": {
      "model_module": "@jupyter-widgets/base",
      "model_module_version": "2.0.0",
      "model_name": "LayoutModel",
      "state": {}
     },
     "35638c23b05542dda67e046b02e9dd2c": {
      "model_module": "@jupyter-widgets/base",
      "model_module_version": "2.0.0",
      "model_name": "LayoutModel",
      "state": {
       "grid_template_areas": "\n                                       \". . . . right \"\n                                        ",
       "grid_template_columns": "20% 20% 20% 20% 20%",
       "width": "100%"
      }
     },
     "474d35a16ddb4e058fbcbb4e99192546": {
      "model_module": "@jupyter-widgets/controls",
      "model_module_version": "2.0.0",
      "model_name": "HTMLStyleModel",
      "state": {
       "description_width": "",
       "font_size": null,
       "text_color": null
      }
     },
     "4c0bebe332c54d23920e5e3fbd15da12": {
      "model_module": "@jupyter-widgets/controls",
      "model_module_version": "2.0.0",
      "model_name": "HTMLModel",
      "state": {
       "layout": "IPY_MODEL_7850e28b084640c19c0c2710e27e78db",
       "style": "IPY_MODEL_a0990f84b41e49febf4d92695222ce60",
       "value": "<p style='font-family: IBM Plex Sans, Arial, Helvetica, sans-serif; font-size: 20px; font-weight: medium;'>Circuit Properties</p>"
      }
     },
     "51e206abaf1b410fb6289cba13be06b7": {
      "model_module": "@jupyter-widgets/controls",
      "model_module_version": "2.0.0",
      "model_name": "HTMLStyleModel",
      "state": {
       "description_width": "",
       "font_size": null,
       "text_color": null
      }
     },
     "657f52a1a7c946c5be471fdb752788a6": {
      "model_module": "@jupyter-widgets/controls",
      "model_module_version": "2.0.0",
      "model_name": "HTMLModel",
      "state": {
       "layout": "IPY_MODEL_f4ab11d8c1724cb590411a3142e057d2",
       "style": "IPY_MODEL_682f1a3551894926bba515ffa4f9a3ed",
       "value": "<h5>Backend</h5>"
      }
     },
     "682f1a3551894926bba515ffa4f9a3ed": {
      "model_module": "@jupyter-widgets/controls",
      "model_module_version": "2.0.0",
      "model_name": "HTMLStyleModel",
      "state": {
       "description_width": "",
       "font_size": null,
       "text_color": null
      }
     },
     "7509f79937a246bc981e17d0729a1163": {
      "model_module": "@jupyter-widgets/controls",
      "model_module_version": "2.0.0",
      "model_name": "HTMLModel",
      "state": {
       "layout": "IPY_MODEL_8ccb5f2556e444c1b2bd2f20c543636d",
       "style": "IPY_MODEL_474d35a16ddb4e058fbcbb4e99192546",
       "value": "<h5>Queue</h5>"
      }
     },
     "7850e28b084640c19c0c2710e27e78db": {
      "model_module": "@jupyter-widgets/base",
      "model_module_version": "2.0.0",
      "model_name": "LayoutModel",
      "state": {
       "margin": "0px 0px 10px 0px"
      }
     },
     "7f20eb6313cc45e5b3dcd06799f4a174": {
      "model_module": "@jupyter-widgets/base",
      "model_module_version": "2.0.0",
      "model_name": "LayoutModel",
      "state": {
       "width": "95px"
      }
     },
     "8ccb5f2556e444c1b2bd2f20c543636d": {
      "model_module": "@jupyter-widgets/base",
      "model_module_version": "2.0.0",
      "model_name": "LayoutModel",
      "state": {
       "width": "70px"
      }
     },
     "9c5e5f4047d142c48fe5266e1dbe1427": {
      "model_module": "@jupyter-widgets/controls",
      "model_module_version": "2.0.0",
      "model_name": "HBoxModel",
      "state": {
       "children": [
        "IPY_MODEL_f5fb2e79e7a34ff390a09c3392ef054d",
        "IPY_MODEL_657f52a1a7c946c5be471fdb752788a6",
        "IPY_MODEL_e407dd2f95ef45e4824b391d27c334a4",
        "IPY_MODEL_7509f79937a246bc981e17d0729a1163",
        "IPY_MODEL_fb95ab2c72df41d2b82f7bd4deda532f"
       ],
       "layout": "IPY_MODEL_c01ce4b704d8443681d2994453d682ec"
      }
     },
     "a0990f84b41e49febf4d92695222ce60": {
      "model_module": "@jupyter-widgets/controls",
      "model_module_version": "2.0.0",
      "model_name": "HTMLStyleModel",
      "state": {
       "description_width": "",
       "font_size": null,
       "text_color": null
      }
     },
     "b3af300956fb4c17ae383cd708f5a969": {
      "model_module": "@jupyter-widgets/controls",
      "model_module_version": "2.0.0",
      "model_name": "ButtonStyleModel",
      "state": {
       "font_family": null,
       "font_size": null,
       "font_style": null,
       "font_variant": null,
       "font_weight": null,
       "text_color": null,
       "text_decoration": null
      }
     },
     "b452695ec69148cb83be47313fe1659e": {
      "model_module": "@jupyter-widgets/controls",
      "model_module_version": "2.0.0",
      "model_name": "ButtonModel",
      "state": {
       "button_style": "primary",
       "description": "Clear",
       "layout": "IPY_MODEL_b589132bfaed4b4eaa767910a255b4f6",
       "style": "IPY_MODEL_b3af300956fb4c17ae383cd708f5a969",
       "tooltip": null
      }
     },
     "b589132bfaed4b4eaa767910a255b4f6": {
      "model_module": "@jupyter-widgets/base",
      "model_module_version": "2.0.0",
      "model_name": "LayoutModel",
      "state": {
       "grid_area": "right",
       "padding": "0px 0px 0px 0px",
       "width": "70px"
      }
     },
     "c01ce4b704d8443681d2994453d682ec": {
      "model_module": "@jupyter-widgets/base",
      "model_module_version": "2.0.0",
      "model_name": "LayoutModel",
      "state": {
       "margin": "0px 0px 0px 37px",
       "width": "600px"
      }
     },
     "d652d200819740b095a251d2922e6e77": {
      "model_module": "@jupyter-widgets/base",
      "model_module_version": "2.0.0",
      "model_name": "LayoutModel",
      "state": {
       "width": "190px"
      }
     },
     "e407dd2f95ef45e4824b391d27c334a4": {
      "model_module": "@jupyter-widgets/controls",
      "model_module_version": "2.0.0",
      "model_name": "HTMLModel",
      "state": {
       "layout": "IPY_MODEL_7f20eb6313cc45e5b3dcd06799f4a174",
       "style": "IPY_MODEL_51e206abaf1b410fb6289cba13be06b7",
       "value": "<h5>Status</h5>"
      }
     },
     "f4ab11d8c1724cb590411a3142e057d2": {
      "model_module": "@jupyter-widgets/base",
      "model_module_version": "2.0.0",
      "model_name": "LayoutModel",
      "state": {
       "width": "145px"
      }
     },
     "f5fb2e79e7a34ff390a09c3392ef054d": {
      "model_module": "@jupyter-widgets/controls",
      "model_module_version": "2.0.0",
      "model_name": "HTMLModel",
      "state": {
       "layout": "IPY_MODEL_d652d200819740b095a251d2922e6e77",
       "style": "IPY_MODEL_fa74050bf9a5430e9ccf592aed6a128a",
       "value": "<h5>Job ID</h5>"
      }
     },
     "fa74050bf9a5430e9ccf592aed6a128a": {
      "model_module": "@jupyter-widgets/controls",
      "model_module_version": "2.0.0",
      "model_name": "HTMLStyleModel",
      "state": {
       "description_width": "",
       "font_size": null,
       "text_color": null
      }
     },
     "fb95ab2c72df41d2b82f7bd4deda532f": {
      "model_module": "@jupyter-widgets/controls",
      "model_module_version": "2.0.0",
      "model_name": "HTMLModel",
      "state": {
       "layout": "IPY_MODEL_2a7170eb17c94e9e929ff4575cc8aaee",
       "style": "IPY_MODEL_0d5c98d8af6344aea1c38a6581b420e7",
       "value": "<h5>Message</h5>"
      }
     }
    },
    "version_major": 2,
    "version_minor": 0
   }
  }
 },
 "nbformat": 4,
 "nbformat_minor": 5
}
